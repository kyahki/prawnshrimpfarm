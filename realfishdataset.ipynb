{
 "cells": [
  {
   "cell_type": "code",
   "execution_count": 2,
   "metadata": {},
   "outputs": [
    {
     "name": "stdout",
     "output_type": "stream",
     "text": [
      "<class 'pandas.core.frame.DataFrame'>\n",
      "RangeIndex: 591 entries, 0 to 590\n",
      "Data columns (total 4 columns):\n",
      " #   Column       Non-Null Count  Dtype  \n",
      "---  ------       --------------  -----  \n",
      " 0   ph           591 non-null    float64\n",
      " 1   temperature  591 non-null    float64\n",
      " 2   turbidity    591 non-null    float64\n",
      " 3   fish         591 non-null    object \n",
      "dtypes: float64(3), object(1)\n",
      "memory usage: 18.6+ KB\n"
     ]
    }
   ],
   "source": [
    "import pandas as pd \n",
    "import numpy as np\n",
    "import matplotlib.pyplot as plt\n",
    "import seaborn as sns\n",
    "\n",
    "fish_data = pd.read_csv('data/realfishdataset.csv')\n",
    "prawn_data = fish_data[fish_data[\"fish\"]== \"prawn\"]\n",
    "print(prawn_data)\n",
    "\n"
   ]
  },
  {
   "cell_type": "code",
   "execution_count": 19,
   "metadata": {},
   "outputs": [
    {
     "name": "stdout",
     "output_type": "stream",
     "text": [
      "Empty DataFrame\n",
      "Columns: [ph, temperature, turbidity, fish]\n",
      "Index: []\n"
     ]
    }
   ],
   "source": [
    "# Filter data within prawn-optimal ranges\n",
    "prawn_friendly_conditions = fish_data[\n",
    "    (fish_data[\"ph\"] >= 7.5) & (fish_data[\"ph\"] <= 8.5) &\n",
    "    (fish_data[\"temperature\"] >= 26) & (fish_data[\"temperature\"] <= 30) &\n",
    "    (fish_data[\"turbidity\"] >= 30) & (fish_data[\"turbidity\"] <= 60)\n",
    "]\n",
    "print(prawn_friendly_conditions)\n",
    "\n",
    "#Low pH (<7.8): Can lead to slowed growth, decreased appetite, and increased susceptibility to diseases.\n",
    "#High pH (>8.5): May increase the toxicity of certain compounds, adversely affecting shrimp health.\n",
    "\n",
    "#Low Temperatures (<28°C): Can slow metabolism and reduce appetite.\n",
    "#High Temperatures (>32°C): May increase metabolism, leading to higher feed consumption without corresponding growth benefits, and can make shrimp more sensitive to toxins.\n",
    "\n",
    "#Low Turbidity (High Clarity): May expose shrimp to predators and reduce the natural food available.\n",
    "#High Turbidity (Low Clarity): Can hinder photosynthesis, leading to lower oxygen levels, and may cause respiratory issues in shrimp."
   ]
  },
  {
   "cell_type": "code",
   "execution_count": 23,
   "metadata": {},
   "outputs": [
    {
     "data": {
      "text/html": [
       "<div>\n",
       "<style scoped>\n",
       "    .dataframe tbody tr th:only-of-type {\n",
       "        vertical-align: middle;\n",
       "    }\n",
       "\n",
       "    .dataframe tbody tr th {\n",
       "        vertical-align: top;\n",
       "    }\n",
       "\n",
       "    .dataframe thead th {\n",
       "        text-align: right;\n",
       "    }\n",
       "</style>\n",
       "<table border=\"1\" class=\"dataframe\">\n",
       "  <thead>\n",
       "    <tr style=\"text-align: right;\">\n",
       "      <th></th>\n",
       "      <th>Statistic</th>\n",
       "      <th>ph</th>\n",
       "      <th>temperature</th>\n",
       "      <th>turbidity</th>\n",
       "    </tr>\n",
       "  </thead>\n",
       "  <tbody>\n",
       "    <tr>\n",
       "      <th>0</th>\n",
       "      <td>Mean</td>\n",
       "      <td>7.53</td>\n",
       "      <td>21.79</td>\n",
       "      <td>4.43</td>\n",
       "    </tr>\n",
       "    <tr>\n",
       "      <th>1</th>\n",
       "      <td>Median</td>\n",
       "      <td>7.50</td>\n",
       "      <td>21.06</td>\n",
       "      <td>3.57</td>\n",
       "    </tr>\n",
       "    <tr>\n",
       "      <th>2</th>\n",
       "      <td>Range</td>\n",
       "      <td>3.50</td>\n",
       "      <td>31.00</td>\n",
       "      <td>14.80</td>\n",
       "    </tr>\n",
       "  </tbody>\n",
       "</table>\n",
       "</div>"
      ],
      "text/plain": [
       "  Statistic    ph  temperature  turbidity\n",
       "0      Mean  7.53        21.79       4.43\n",
       "1    Median  7.50        21.06       3.57\n",
       "2     Range  3.50        31.00      14.80"
      ]
     },
     "execution_count": 23,
     "metadata": {},
     "output_type": "execute_result"
    }
   ],
   "source": [
    "# Calculate descriptive statistics for pH, Temperature, and Turbidity\n",
    "descriptive_stats = {\n",
    "    \"Statistic\": [\"Mean\", \"Median\", \"Range\"],\n",
    "    \"ph\": [round(fish_data[\"ph\"].mean(), 2), round(fish_data[\"ph\"].median(), 2), round(fish_data[\"ph\"].max() - fish_data[\"ph\"].min(), 2)],\n",
    "    \"temperature\": [round(fish_data[\"temperature\"].mean(), 2), round(fish_data[\"temperature\"].median(), 2), round(fish_data[\"temperature\"].max() - fish_data[\"temperature\"].min(), 2)],\n",
    "    \"turbidity\": [round(fish_data[\"turbidity\"].mean(), 2), round(fish_data[\"turbidity\"].median(), 2), round(fish_data[\"turbidity\"].max() - fish_data[\"turbidity\"].min(), 2)],\n",
    "}\n",
    "\n",
    "# Convert to DataFrame\n",
    "stats_df = pd.DataFrame(descriptive_stats)\n",
    "stats_df\n"
   ]
  }
 ],
 "metadata": {
  "kernelspec": {
   "display_name": "Python 3",
   "language": "python",
   "name": "python3"
  },
  "language_info": {
   "codemirror_mode": {
    "name": "ipython",
    "version": 3
   },
   "file_extension": ".py",
   "mimetype": "text/x-python",
   "name": "python",
   "nbconvert_exporter": "python",
   "pygments_lexer": "ipython3",
   "version": "3.12.5"
  }
 },
 "nbformat": 4,
 "nbformat_minor": 2
}
