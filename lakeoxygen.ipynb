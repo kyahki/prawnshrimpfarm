{
 "cells": [
  {
   "cell_type": "code",
   "execution_count": 1,
   "metadata": {},
   "outputs": [
    {
     "name": "stdout",
     "output_type": "stream",
     "text": [
      "                 Date.Time  Depth    Temp      DO    DOsat     pH     Cond\n",
      "0      2019-04-25 00:00:00    0.0  19.156  10.455  116.370  8.586  421.801\n",
      "1      2019-04-25 00:00:00    0.5  19.137  10.468  115.732  8.578  421.859\n",
      "2      2019-04-25 00:00:00    1.0  19.193  10.411  115.345  8.617  419.710\n",
      "3      2019-04-25 00:00:00    1.5  19.229  10.414  115.121  8.618  419.609\n",
      "4      2019-04-25 00:00:00    2.0  19.171  10.419  114.568  8.571  421.432\n",
      "...                    ...    ...     ...     ...      ...    ...      ...\n",
      "47287  2019-10-29 14:00:00    8.0  17.940   7.385   79.269  7.729  331.305\n",
      "47288  2019-10-29 14:00:00    8.5  17.932   7.355   78.517  7.726  331.280\n",
      "47289  2019-10-29 14:00:00    9.0  17.932   7.355   78.517  7.726  331.280\n",
      "47290  2019-10-29 14:00:00    9.5  17.932   7.355   78.517  7.726  331.280\n",
      "47291  2019-10-29 14:00:00   10.0  17.932   7.355   78.517  7.726  331.280\n",
      "\n",
      "[47292 rows x 7 columns]\n"
     ]
    }
   ],
   "source": [
    "import pandas as pd \n",
    "lake_data = pd.read_csv('data/lakeoxygen_cleaned.csv')\n",
    "\n",
    "print(lake_data)"
   ]
  },
  {
   "cell_type": "code",
   "execution_count": 5,
   "metadata": {},
   "outputs": [
    {
     "name": "stdout",
     "output_type": "stream",
     "text": [
      "float64\n",
      "[ 0.   0.5  1.   1.5  2.   2.5  3.   3.5  4.   4.5  5.   5.5  6.   6.5\n",
      "  7.   7.5  8.   8.5  9.   9.5 10. ]\n"
     ]
    }
   ],
   "source": [
    "relevant_data = lake_data[\n",
    "    (lake_data[\"Depth\"] >= 0.8) & (lake_data[\"Depth\"] <= 1.5) \n",
    "    (lake_data[\"pH\"] >= 7.5) & (lake_data[\"pH\"] <= 8.5) &\n",
    "    (lake_data[\"Temp\"] >= 26) & (lake_data[\"Temp\"] <= 30)\n",
    "]\n",
    "print(relevant_data)\n",
    "# print(lake_data[\"Depth\"].dtype)  # Check data type\n",
    "# print(lake_data[\"Depth\"].unique())  # See unique values"
   ]
  }
 ],
 "metadata": {
  "kernelspec": {
   "display_name": "Python 3",
   "language": "python",
   "name": "python3"
  },
  "language_info": {
   "codemirror_mode": {
    "name": "ipython",
    "version": 3
   },
   "file_extension": ".py",
   "mimetype": "text/x-python",
   "name": "python",
   "nbconvert_exporter": "python",
   "pygments_lexer": "ipython3",
   "version": "3.12.5"
  }
 },
 "nbformat": 4,
 "nbformat_minor": 2
}
